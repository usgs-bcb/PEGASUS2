{
 "cells": [
  {
   "cell_type": "code",
   "execution_count": null,
   "metadata": {},
   "outputs": [],
   "source": []
  },
  {
   "cell_type": "code",
   "execution_count": 52,
   "metadata": {},
   "outputs": [],
   "source": [
    "import pegasus_functions as pf\n",
    "import csv\n",
    "from IPython.display import display"
   ]
  },
  {
   "cell_type": "code",
   "execution_count": 53,
   "metadata": {},
   "outputs": [],
   "source": [
    "eov_packet = pf.get_eov_packet()"
   ]
  },
  {
   "cell_type": "code",
   "execution_count": 57,
   "metadata": {},
   "outputs": [],
   "source": [
    "flat_eov_packet = list()\n",
    "\n",
    "for eov,packet in eov_packet.items():\n",
    "    for taxon,info in packet[\"obis_worms_taxa\"].items():\n",
    "        taxon_item = {\n",
    "            \"eov_name\": eov,\n",
    "            \"eov_label\": packet[\"label\"]\n",
    "        }\n",
    "        taxon_item.update(info)\n",
    "        taxon_item.pop('api')\n",
    "        if \"summary_stats\" in info.keys():\n",
    "            taxon_item.pop('summary_stats')\n",
    "            taxon_item.pop('date_cached')\n",
    "            taxon_item.update(info[\"summary_stats\"])\n",
    "            taxon_item.pop('api')\n",
    "            taxon_item[\"start_year\"] = taxon_item['yearrange'][0]\n",
    "            taxon_item[\"end_year\"] = taxon_item['yearrange'][1]\n",
    "            taxon_item.pop('yearrange')\n",
    "            \n",
    "        for key in ['subdivisionid', 'infraphylum', 'acceptedNameUsage', 'acceptedNameUsageID', 'class', 'subkingdomid', 'is_marine', 'subclassid', 'classid', 'subphylum', 'subdivision', 'kingdomid', 'superorderid', 'subphylumid', 'is_brackish', 'subclass', 'kingdom', 'superclass', 'infrakingdom', 'is_freshwater', 'superorder', 'infrakingdomids', 'subkingdom', 'familyid', 'infraphylumid', 'orderid', 'phylumid', 'superclassid', 'phylum', 'order', 'is_terrestrial', 'family']:\n",
    "            try:\n",
    "                taxon_item.pop(key)\n",
    "            except:\n",
    "                pass\n",
    "            \n",
    "        flat_eov_packet.append(taxon_item)\n",
    "    "
   ]
  },
  {
   "cell_type": "code",
   "execution_count": 50,
   "metadata": {},
   "outputs": [],
   "source": [
    "def all_keys(dictlist):\n",
    "    return set().union(*dictlist)\n",
    "\n",
    "keys = all_keys(flat_eov_packet)\n",
    "with open('eov_taxa.csv', 'w') as f:\n",
    "    dict_writer = csv.DictWriter(f, keys)\n",
    "    dict_writer.writeheader()\n",
    "    dict_writer.writerows(flat_eov_packet)"
   ]
  },
  {
   "cell_type": "code",
   "execution_count": null,
   "metadata": {},
   "outputs": [],
   "source": []
  }
 ],
 "metadata": {
  "kernelspec": {
   "display_name": "Python 3",
   "language": "python",
   "name": "python3"
  },
  "language_info": {
   "codemirror_mode": {
    "name": "ipython",
    "version": 3
   },
   "file_extension": ".py",
   "mimetype": "text/x-python",
   "name": "python",
   "nbconvert_exporter": "python",
   "pygments_lexer": "ipython3",
   "version": "3.6.4"
  }
 },
 "nbformat": 4,
 "nbformat_minor": 2
}
