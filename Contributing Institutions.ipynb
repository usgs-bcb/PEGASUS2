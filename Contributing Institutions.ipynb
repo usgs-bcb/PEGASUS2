{
 "cells": [
  {
   "cell_type": "markdown",
   "metadata": {},
   "source": [
    "One way to identify gaps in contributions is to look at the organizations contributing data to OBIS. This information comes from the metadata for each dataset served up from an IPT source and harvested into OBIS. Consistency and quality of this metadata remains a challenge in some cases. OBIS is working to better expose this information and help to point out areas for improvement.\n",
    "\n",
    "Clear dynamics for some species groups jump out like the contributions of Duke University for marine mammals through their work in aggregating and exposing many other data sources."
   ]
  },
  {
   "cell_type": "code",
   "execution_count": 1,
   "metadata": {},
   "outputs": [],
   "source": [
    "from IPython.display import display\n",
    "import pegasus_functions as pf"
   ]
  },
  {
   "cell_type": "code",
   "execution_count": 2,
   "metadata": {},
   "outputs": [],
   "source": [
    "eov_packet = pf.get_eov_packet()"
   ]
  },
  {
   "cell_type": "code",
   "execution_count": null,
   "metadata": {},
   "outputs": [],
   "source": [
    "for index,eov in enumerate(eov_packet):\n",
    "    institute_stats = pf.summary_stats_by_aphiaids(pf.get_worms_info(eov[\"name\"])[\"valid_aphiaids\"], summary_type=\"institute\")\n",
    "    institute_results = [{'name':i['name'],'records':i['records']} for i in institute_stats['results']]\n",
    "    \n",
    "    print(f'{eov[\"label\"]} - Contributing Institutes')\n",
    "    print(\"------------\")\n",
    "    for institute in institute_results:\n",
    "        print(institute[\"name\"], institute[\"records\"])\n",
    "    print(\"==============================\")\n"
   ]
  },
  {
   "cell_type": "code",
   "execution_count": 3,
   "metadata": {},
   "outputs": [
    {
     "data": {
      "text/plain": [
       "{'label': 'Phytoplankton biomass and diversity',\n",
       " 'name': 'phytoplankton',\n",
       " 'taxonomic_names': ['Chlorophyceae',\n",
       "  'Chrysophyceae',\n",
       "  'Cryptophyceae',\n",
       "  'Cyanophyceae',\n",
       "  'Diatomophyceae',\n",
       "  'Dictyochophyceae',\n",
       "  'Dinophyceae',\n",
       "  'Euglenophyceae',\n",
       "  'Eustigmatophyceae',\n",
       "  'Micromonadophyceae',\n",
       "  'Pedinophyceae',\n",
       "  'Prasinophyceae',\n",
       "  'Prymnesiophyceae',\n",
       "  'Raphidophyceae',\n",
       "  'Rhodophyceae',\n",
       "  'Tribophyceae'],\n",
       " 'url': 'http://www.goosocean.org/index.php?option=com_oe&task=viewDocumentRecord&docID=17507'}"
      ]
     },
     "metadata": {},
     "output_type": "display_data"
    },
    {
     "data": {
      "text/plain": [
       "{'birds': {'records': 0, 'species': 0},\n",
       " 'fish': {'records': 0, 'species': 0},\n",
       " 'mammals': {'records': 0, 'species': 0},\n",
       " 'other': {'records': 4235132, 'species': 3395}}"
      ]
     },
     "metadata": {},
     "output_type": "display_data"
    },
    {
     "data": {
      "text/plain": [
       "{'label': 'Zooplankton biomass and diversity',\n",
       " 'name': 'zooplankton',\n",
       " 'taxonomic_names': ['Foraminifera',\n",
       "  'Acantharia',\n",
       "  'Polycystinia',\n",
       "  'Phaeodaria',\n",
       "  'Ciliata',\n",
       "  'Tintinnina',\n",
       "  'Hydrozoa',\n",
       "  'Siphonophora',\n",
       "  'Cubomedusae',\n",
       "  'Cubozoa',\n",
       "  'Scyphomedusae',\n",
       "  'Scyphozoa',\n",
       "  'Ctenophora',\n",
       "  'Rotifera',\n",
       "  'Platyhelminthes',\n",
       "  'Nectonema',\n",
       "  'Nemertinea',\n",
       "  'Polychaeta',\n",
       "  'Heteropoda',\n",
       "  'Pteropoda',\n",
       "  'Nudibranchia',\n",
       "  'Cephalopoda',\n",
       "  'Cladocera',\n",
       "  'Ostracoda',\n",
       "  'Isopoda',\n",
       "  'Copepoda',\n",
       "  'Mysidacea',\n",
       "  'Amphipoda',\n",
       "  'Euphausiacea',\n",
       "  'Decapoda',\n",
       "  'Chaetognatha',\n",
       "  'Appendicularia',\n",
       "  'Pyrosoma',\n",
       "  'Doliolida',\n",
       "  'Salpida'],\n",
       " 'url': 'http://www.goosocean.org/index.php?option=com_oe&task=viewDocumentRecord&docID=17509'}"
      ]
     },
     "metadata": {},
     "output_type": "display_data"
    },
    {
     "data": {
      "text/plain": [
       "{'birds': {'records': 0, 'species': 0},\n",
       " 'fish': {'records': 16443, 'species': 2},\n",
       " 'mammals': {'records': 0, 'species': 0},\n",
       " 'other': {'records': 13426045, 'species': 45095}}"
      ]
     },
     "metadata": {},
     "output_type": "display_data"
    },
    {
     "data": {
      "text/plain": [
       "{'label': 'Fish abundance and distribution',\n",
       " 'name': 'fish',\n",
       " 'taxonomic_names': ['Pisces'],\n",
       " 'url': 'http://www.goosocean.org/index.php?option=com_oe&task=viewDocumentRecord&docID=17510'}"
      ]
     },
     "metadata": {},
     "output_type": "display_data"
    },
    {
     "data": {
      "text/plain": [
       "{'birds': {'records': 0, 'species': 0},\n",
       " 'fish': {'records': 22203794, 'species': 15085},\n",
       " 'mammals': {'records': 0, 'species': 0},\n",
       " 'other': {'records': -109897, 'species': 357}}"
      ]
     },
     "metadata": {},
     "output_type": "display_data"
    },
    {
     "data": {
      "text/plain": [
       "{'label': 'Marine turtles, birds, mammals abundance and distribution',\n",
       " 'name': 'turtles, birds, mammals',\n",
       " 'taxonomic_names': ['Testudines', 'Aves', 'Mammalia'],\n",
       " 'url': 'http://www.goosocean.org/index.php?option=com_oe&task=viewDocumentRecord&docID=17511'}"
      ]
     },
     "metadata": {},
     "output_type": "display_data"
    },
    {
     "data": {
      "text/plain": [
       "{'birds': {'records': 4390725, 'species': 542},\n",
       " 'fish': {'records': 0, 'species': 0},\n",
       " 'mammals': {'records': 1201315, 'species': 126},\n",
       " 'other': {'records': 136155, 'species': 8}}"
      ]
     },
     "metadata": {},
     "output_type": "display_data"
    },
    {
     "data": {
      "text/plain": [
       "{'label': 'Hard coral cover and composition',\n",
       " 'name': 'coral',\n",
       " 'taxonomic_names': ['Scleractinia'],\n",
       " 'url': 'http://www.goosocean.org/index.php?option=com_oe&task=viewDocumentRecord&docID=17512'}"
      ]
     },
     "metadata": {},
     "output_type": "display_data"
    },
    {
     "data": {
      "text/plain": [
       "{'birds': {'records': 0, 'species': 0},\n",
       " 'fish': {'records': 0, 'species': 0},\n",
       " 'mammals': {'records': 0, 'species': 0},\n",
       " 'other': {'records': 656798, 'species': 1753}}"
      ]
     },
     "metadata": {},
     "output_type": "display_data"
    },
    {
     "data": {
      "text/plain": [
       "{'label': 'Seagrass cover and composition',\n",
       " 'name': 'seagrass',\n",
       " 'taxonomic_names': ['Zosteraceae',\n",
       "  'Cymodoceaceae',\n",
       "  'Posidoniaceae',\n",
       "  'Hydrocharitaceae'],\n",
       " 'url': 'http://www.goosocean.org/index.php?option=com_oe&task=viewDocumentRecord&docID=17513'}"
      ]
     },
     "metadata": {},
     "output_type": "display_data"
    },
    {
     "data": {
      "text/plain": [
       "{'birds': {'records': 0, 'species': 0},\n",
       " 'fish': {'records': 0, 'species': 0},\n",
       " 'mammals': {'records': 0, 'species': 0},\n",
       " 'other': {'records': 75722, 'species': 54}}"
      ]
     },
     "metadata": {},
     "output_type": "display_data"
    },
    {
     "data": {
      "text/plain": [
       "{'label': 'Macroalgal canopy cover and composition',\n",
       " 'name': 'macroalgae',\n",
       " 'taxonomic_names': ['Ulvaceae', 'Phaeophyceae'],\n",
       " 'url': 'http://www.goosocean.org/index.php?option=com_oe&task=viewDocumentRecord&docID=17515'}"
      ]
     },
     "metadata": {},
     "output_type": "display_data"
    },
    {
     "data": {
      "text/plain": [
       "{'birds': {'records': 0, 'species': 0},\n",
       " 'fish': {'records': 0, 'species': 0},\n",
       " 'mammals': {'records': 0, 'species': 0},\n",
       " 'other': {'records': 367644, 'species': 865}}"
      ]
     },
     "metadata": {},
     "output_type": "display_data"
    },
    {
     "data": {
      "text/plain": [
       "{'label': 'Mangrove cover and composition',\n",
       " 'name': 'mangroves',\n",
       " 'taxonomic_names': ['Rhizophoraceae',\n",
       "  'Acanthaceae',\n",
       "  'Combretaceae',\n",
       "  'Primulaceae',\n",
       "  'Lythraceae',\n",
       "  'Malvaceae'],\n",
       " 'url': 'http://www.goosocean.org/index.php?option=com_oe&task=viewDocumentRecord&docID=17514'}"
      ]
     },
     "metadata": {},
     "output_type": "display_data"
    },
    {
     "data": {
      "text/plain": [
       "{'birds': {'records': 0, 'species': 0},\n",
       " 'fish': {'records': 0, 'species': 0},\n",
       " 'mammals': {'records': 0, 'species': 0},\n",
       " 'other': {'records': 3498, 'species': 38}}"
      ]
     },
     "metadata": {},
     "output_type": "display_data"
    }
   ],
   "source": [
    "for index,eov in enumerate(eov_packet):\n",
    "    composition_stats = pf.summary_stats_by_aphiaids(pf.get_worms_info(eov[\"name\"])[\"valid_aphiaids\"], summary_type=\"statistics/composition\")\n",
    "    display(eov)\n",
    "    display(composition_stats)"
   ]
  },
  {
   "cell_type": "code",
   "execution_count": null,
   "metadata": {},
   "outputs": [],
   "source": []
  }
 ],
 "metadata": {
  "kernelspec": {
   "display_name": "Python 3",
   "language": "python",
   "name": "python3"
  },
  "language_info": {
   "codemirror_mode": {
    "name": "ipython",
    "version": 3
   },
   "file_extension": ".py",
   "mimetype": "text/x-python",
   "name": "python",
   "nbconvert_exporter": "python",
   "pygments_lexer": "ipython3",
   "version": "3.6.4"
  }
 },
 "nbformat": 4,
 "nbformat_minor": 2
}
